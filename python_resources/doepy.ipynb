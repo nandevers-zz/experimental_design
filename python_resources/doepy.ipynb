{
 "metadata": {
  "language_info": {
   "codemirror_mode": {
    "name": "ipython",
    "version": 3
   },
   "file_extension": ".py",
   "mimetype": "text/x-python",
   "name": "python",
   "nbconvert_exporter": "python",
   "pygments_lexer": "ipython3",
   "version": "3.8.5-final"
  },
  "orig_nbformat": 2,
  "kernelspec": {
   "name": "python3",
   "display_name": "Python 3"
  }
 },
 "nbformat": 4,
 "nbformat_minor": 2,
 "cells": [
  {
   "cell_type": "code",
   "execution_count": 5,
   "metadata": {},
   "outputs": [
    {
     "output_type": "error",
     "ename": "ModuleNotFoundError",
     "evalue": "No module named 'doepy'",
     "traceback": [
      "\u001b[0;31m---------------------------------------------------------------------------\u001b[0m",
      "\u001b[0;31mModuleNotFoundError\u001b[0m                       Traceback (most recent call last)",
      "\u001b[0;32m<ipython-input-5-44f5d375ef38>\u001b[0m in \u001b[0;36m<module>\u001b[0;34m\u001b[0m\n\u001b[0;32m----> 1\u001b[0;31m \u001b[0;32mfrom\u001b[0m \u001b[0mdoepy\u001b[0m \u001b[0;32mimport\u001b[0m \u001b[0mbuild\u001b[0m\u001b[0;34m\u001b[0m\u001b[0;34m\u001b[0m\u001b[0m\n\u001b[0m",
      "\u001b[0;31mModuleNotFoundError\u001b[0m: No module named 'doepy'"
     ]
    }
   ],
   "source": [
    "from doepy import build"
   ]
  },
  {
   "cell_type": "code",
   "execution_count": 7,
   "metadata": {},
   "outputs": [
    {
     "output_type": "stream",
     "name": "stdout",
     "text": [
      "Requirement already satisfied: doepy in /home/fernando/penvs/experimental_design/lib/python3.8/site-packages (0.0.1)\n",
      "Requirement already satisfied: pandas in /home/fernando/penvs/experimental_design/lib/python3.8/site-packages (from doepy) (1.1.3)\n",
      "Requirement already satisfied: numpy in /home/fernando/penvs/experimental_design/lib/python3.8/site-packages (from doepy) (1.19.2)\n",
      "Requirement already satisfied: pyDOE in /home/fernando/penvs/experimental_design/lib/python3.8/site-packages (from doepy) (0.3.8)\n",
      "Requirement already satisfied: diversipy in /home/fernando/penvs/experimental_design/lib/python3.8/site-packages (from doepy) (0.8)\n",
      "Requirement already satisfied: numpy in /home/fernando/penvs/experimental_design/lib/python3.8/site-packages (from doepy) (1.19.2)\n",
      "Requirement already satisfied: scipy in /home/fernando/penvs/experimental_design/lib/python3.8/site-packages (from diversipy->doepy) (1.5.3)\n",
      "Requirement already satisfied: numpy in /home/fernando/penvs/experimental_design/lib/python3.8/site-packages (from doepy) (1.19.2)\n",
      "Requirement already satisfied: pytz>=2017.2 in /home/fernando/penvs/experimental_design/lib/python3.8/site-packages (from pandas->doepy) (2020.1)\n",
      "Requirement already satisfied: python-dateutil>=2.7.3 in /home/fernando/penvs/experimental_design/lib/python3.8/site-packages (from pandas->doepy) (2.8.1)\n",
      "Requirement already satisfied: numpy in /home/fernando/penvs/experimental_design/lib/python3.8/site-packages (from doepy) (1.19.2)\n",
      "Requirement already satisfied: scipy in /home/fernando/penvs/experimental_design/lib/python3.8/site-packages (from diversipy->doepy) (1.5.3)\n",
      "Requirement already satisfied: six>=1.5 in /home/fernando/penvs/experimental_design/lib/python3.8/site-packages (from python-dateutil>=2.7.3->pandas->doepy) (1.15.0)\n",
      "Requirement already satisfied: numpy in /home/fernando/penvs/experimental_design/lib/python3.8/site-packages (from doepy) (1.19.2)\n"
     ]
    }
   ],
   "source": [
    "!pip install doepy"
   ]
  },
  {
   "cell_type": "code",
   "execution_count": 8,
   "metadata": {},
   "outputs": [
    {
     "output_type": "error",
     "ename": "ModuleNotFoundError",
     "evalue": "No module named 'doepy'",
     "traceback": [
      "\u001b[0;31m---------------------------------------------------------------------------\u001b[0m",
      "\u001b[0;31mModuleNotFoundError\u001b[0m                       Traceback (most recent call last)",
      "\u001b[0;32m<ipython-input-8-04093bb88b3c>\u001b[0m in \u001b[0;36m<module>\u001b[0;34m\u001b[0m\n\u001b[0;32m----> 1\u001b[0;31m \u001b[0;32mimport\u001b[0m \u001b[0mdoepy\u001b[0m\u001b[0;34m\u001b[0m\u001b[0;34m\u001b[0m\u001b[0m\n\u001b[0m",
      "\u001b[0;31mModuleNotFoundError\u001b[0m: No module named 'doepy'"
     ]
    }
   ],
   "source": [
    "import doepy"
   ]
  },
  {
   "cell_type": "code",
   "execution_count": 6,
   "metadata": {},
   "outputs": [
    {
     "output_type": "stream",
     "name": "stdout",
     "text": [
      "Collecting pip\n",
      "\u001b[?25l  Downloading https://files.pythonhosted.org/packages/ab/11/2dc62c5263d9eb322f2f028f7b56cd9d096bb8988fcf82d65fa2e4057afe/pip-20.3.1-py2.py3-none-any.whl (1.5MB)\n",
      "\u001b[K     |████████████████████████████████| 1.5MB 1.5MB/s \n",
      "\u001b[?25hInstalling collected packages: pip\n",
      "  Found existing installation: pip 19.2.3\n",
      "    Uninstalling pip-19.2.3:\n",
      "      Successfully uninstalled pip-19.2.3\n",
      "Successfully installed pip-20.3.1\n"
     ]
    }
   ],
   "source": [
    "!pip install --upgrade pip"
   ]
  },
  {
   "cell_type": "code",
   "execution_count": null,
   "metadata": {},
   "outputs": [],
   "source": []
  }
 ]
}