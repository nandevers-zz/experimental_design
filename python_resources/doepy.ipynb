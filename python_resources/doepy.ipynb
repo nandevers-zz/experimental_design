{
 "metadata": {
  "language_info": {
   "codemirror_mode": {
    "name": "ipython",
    "version": 3
   },
   "file_extension": ".py",
   "mimetype": "text/x-python",
   "name": "python",
   "nbconvert_exporter": "python",
   "pygments_lexer": "ipython3",
   "version": "3.8.3-final"
  },
  "orig_nbformat": 2,
  "kernelspec": {
   "name": "python3",
   "display_name": "Python 3"
  }
 },
 "nbformat": 4,
 "nbformat_minor": 2,
 "cells": [
  {
   "cell_type": "code",
   "execution_count": 1,
   "metadata": {},
   "outputs": [],
   "source": [
    "from doepy import build"
   ]
  },
  {
   "cell_type": "code",
   "execution_count": 44,
   "metadata": {},
   "outputs": [
    {
     "output_type": "execute_result",
     "data": {
      "text/plain": [
       "    Period  Brazilian State  Rate  Group 1  Group 2\n",
       "0      3.0              0.0   6.9      1.0      1.0\n",
       "1     12.0              0.0   6.9      1.0      1.0\n",
       "2      3.0              5.0   6.9      1.0      1.0\n",
       "3     12.0              5.0   6.9      1.0      1.0\n",
       "4      3.0              0.0  18.9      1.0      1.0\n",
       "5     12.0              0.0  18.9      1.0      1.0\n",
       "6      3.0              5.0  18.9      1.0      1.0\n",
       "7     12.0              5.0  18.9      1.0      1.0\n",
       "8      3.0              0.0   6.9     10.0      1.0\n",
       "9     12.0              0.0   6.9     10.0      1.0\n",
       "10     3.0              5.0   6.9     10.0      1.0\n",
       "11    12.0              5.0   6.9     10.0      1.0\n",
       "12     3.0              0.0  18.9     10.0      1.0\n",
       "13    12.0              0.0  18.9     10.0      1.0\n",
       "14     3.0              5.0  18.9     10.0      1.0\n",
       "15    12.0              5.0  18.9     10.0      1.0\n",
       "16     3.0              0.0   6.9      1.0      4.0\n",
       "17    12.0              0.0   6.9      1.0      4.0\n",
       "18     3.0              5.0   6.9      1.0      4.0\n",
       "19    12.0              5.0   6.9      1.0      4.0\n",
       "20     3.0              0.0  18.9      1.0      4.0\n",
       "21    12.0              0.0  18.9      1.0      4.0\n",
       "22     3.0              5.0  18.9      1.0      4.0\n",
       "23    12.0              5.0  18.9      1.0      4.0\n",
       "24     3.0              0.0   6.9     10.0      4.0\n",
       "25    12.0              0.0   6.9     10.0      4.0\n",
       "26     3.0              5.0   6.9     10.0      4.0\n",
       "27    12.0              5.0   6.9     10.0      4.0\n",
       "28     3.0              0.0  18.9     10.0      4.0\n",
       "29    12.0              0.0  18.9     10.0      4.0\n",
       "30     3.0              5.0  18.9     10.0      4.0\n",
       "31    12.0              5.0  18.9     10.0      4.0"
      ],
      "text/html": "<div>\n<style scoped>\n    .dataframe tbody tr th:only-of-type {\n        vertical-align: middle;\n    }\n\n    .dataframe tbody tr th {\n        vertical-align: top;\n    }\n\n    .dataframe thead th {\n        text-align: right;\n    }\n</style>\n<table border=\"1\" class=\"dataframe\">\n  <thead>\n    <tr style=\"text-align: right;\">\n      <th></th>\n      <th>Period</th>\n      <th>Brazilian State</th>\n      <th>Rate</th>\n      <th>Group 1</th>\n      <th>Group 2</th>\n    </tr>\n  </thead>\n  <tbody>\n    <tr>\n      <th>0</th>\n      <td>3.0</td>\n      <td>0.0</td>\n      <td>6.9</td>\n      <td>1.0</td>\n      <td>1.0</td>\n    </tr>\n    <tr>\n      <th>1</th>\n      <td>12.0</td>\n      <td>0.0</td>\n      <td>6.9</td>\n      <td>1.0</td>\n      <td>1.0</td>\n    </tr>\n    <tr>\n      <th>2</th>\n      <td>3.0</td>\n      <td>5.0</td>\n      <td>6.9</td>\n      <td>1.0</td>\n      <td>1.0</td>\n    </tr>\n    <tr>\n      <th>3</th>\n      <td>12.0</td>\n      <td>5.0</td>\n      <td>6.9</td>\n      <td>1.0</td>\n      <td>1.0</td>\n    </tr>\n    <tr>\n      <th>4</th>\n      <td>3.0</td>\n      <td>0.0</td>\n      <td>18.9</td>\n      <td>1.0</td>\n      <td>1.0</td>\n    </tr>\n    <tr>\n      <th>5</th>\n      <td>12.0</td>\n      <td>0.0</td>\n      <td>18.9</td>\n      <td>1.0</td>\n      <td>1.0</td>\n    </tr>\n    <tr>\n      <th>6</th>\n      <td>3.0</td>\n      <td>5.0</td>\n      <td>18.9</td>\n      <td>1.0</td>\n      <td>1.0</td>\n    </tr>\n    <tr>\n      <th>7</th>\n      <td>12.0</td>\n      <td>5.0</td>\n      <td>18.9</td>\n      <td>1.0</td>\n      <td>1.0</td>\n    </tr>\n    <tr>\n      <th>8</th>\n      <td>3.0</td>\n      <td>0.0</td>\n      <td>6.9</td>\n      <td>10.0</td>\n      <td>1.0</td>\n    </tr>\n    <tr>\n      <th>9</th>\n      <td>12.0</td>\n      <td>0.0</td>\n      <td>6.9</td>\n      <td>10.0</td>\n      <td>1.0</td>\n    </tr>\n    <tr>\n      <th>10</th>\n      <td>3.0</td>\n      <td>5.0</td>\n      <td>6.9</td>\n      <td>10.0</td>\n      <td>1.0</td>\n    </tr>\n    <tr>\n      <th>11</th>\n      <td>12.0</td>\n      <td>5.0</td>\n      <td>6.9</td>\n      <td>10.0</td>\n      <td>1.0</td>\n    </tr>\n    <tr>\n      <th>12</th>\n      <td>3.0</td>\n      <td>0.0</td>\n      <td>18.9</td>\n      <td>10.0</td>\n      <td>1.0</td>\n    </tr>\n    <tr>\n      <th>13</th>\n      <td>12.0</td>\n      <td>0.0</td>\n      <td>18.9</td>\n      <td>10.0</td>\n      <td>1.0</td>\n    </tr>\n    <tr>\n      <th>14</th>\n      <td>3.0</td>\n      <td>5.0</td>\n      <td>18.9</td>\n      <td>10.0</td>\n      <td>1.0</td>\n    </tr>\n    <tr>\n      <th>15</th>\n      <td>12.0</td>\n      <td>5.0</td>\n      <td>18.9</td>\n      <td>10.0</td>\n      <td>1.0</td>\n    </tr>\n    <tr>\n      <th>16</th>\n      <td>3.0</td>\n      <td>0.0</td>\n      <td>6.9</td>\n      <td>1.0</td>\n      <td>4.0</td>\n    </tr>\n    <tr>\n      <th>17</th>\n      <td>12.0</td>\n      <td>0.0</td>\n      <td>6.9</td>\n      <td>1.0</td>\n      <td>4.0</td>\n    </tr>\n    <tr>\n      <th>18</th>\n      <td>3.0</td>\n      <td>5.0</td>\n      <td>6.9</td>\n      <td>1.0</td>\n      <td>4.0</td>\n    </tr>\n    <tr>\n      <th>19</th>\n      <td>12.0</td>\n      <td>5.0</td>\n      <td>6.9</td>\n      <td>1.0</td>\n      <td>4.0</td>\n    </tr>\n    <tr>\n      <th>20</th>\n      <td>3.0</td>\n      <td>0.0</td>\n      <td>18.9</td>\n      <td>1.0</td>\n      <td>4.0</td>\n    </tr>\n    <tr>\n      <th>21</th>\n      <td>12.0</td>\n      <td>0.0</td>\n      <td>18.9</td>\n      <td>1.0</td>\n      <td>4.0</td>\n    </tr>\n    <tr>\n      <th>22</th>\n      <td>3.0</td>\n      <td>5.0</td>\n      <td>18.9</td>\n      <td>1.0</td>\n      <td>4.0</td>\n    </tr>\n    <tr>\n      <th>23</th>\n      <td>12.0</td>\n      <td>5.0</td>\n      <td>18.9</td>\n      <td>1.0</td>\n      <td>4.0</td>\n    </tr>\n    <tr>\n      <th>24</th>\n      <td>3.0</td>\n      <td>0.0</td>\n      <td>6.9</td>\n      <td>10.0</td>\n      <td>4.0</td>\n    </tr>\n    <tr>\n      <th>25</th>\n      <td>12.0</td>\n      <td>0.0</td>\n      <td>6.9</td>\n      <td>10.0</td>\n      <td>4.0</td>\n    </tr>\n    <tr>\n      <th>26</th>\n      <td>3.0</td>\n      <td>5.0</td>\n      <td>6.9</td>\n      <td>10.0</td>\n      <td>4.0</td>\n    </tr>\n    <tr>\n      <th>27</th>\n      <td>12.0</td>\n      <td>5.0</td>\n      <td>6.9</td>\n      <td>10.0</td>\n      <td>4.0</td>\n    </tr>\n    <tr>\n      <th>28</th>\n      <td>3.0</td>\n      <td>0.0</td>\n      <td>18.9</td>\n      <td>10.0</td>\n      <td>4.0</td>\n    </tr>\n    <tr>\n      <th>29</th>\n      <td>12.0</td>\n      <td>0.0</td>\n      <td>18.9</td>\n      <td>10.0</td>\n      <td>4.0</td>\n    </tr>\n    <tr>\n      <th>30</th>\n      <td>3.0</td>\n      <td>5.0</td>\n      <td>18.9</td>\n      <td>10.0</td>\n      <td>4.0</td>\n    </tr>\n    <tr>\n      <th>31</th>\n      <td>12.0</td>\n      <td>5.0</td>\n      <td>18.9</td>\n      <td>10.0</td>\n      <td>4.0</td>\n    </tr>\n  </tbody>\n</table>\n</div>"
     },
     "metadata": {},
     "execution_count": 44
    }
   ],
   "source": [
    "build.full_fact(conds)"
   ]
  },
  {
   "cell_type": "code",
   "execution_count": null,
   "metadata": {},
   "outputs": [],
   "source": []
  },
  {
   "cell_type": "code",
   "execution_count": 2,
   "metadata": {},
   "outputs": [
    {
     "output_type": "stream",
     "name": "stdout",
     "text": [
      "Pressure had more than two levels. Assigning the end point to the high level.\nTemperature had more than two levels. Assigning the end point to the high level.\n"
     ]
    },
    {
     "output_type": "execute_result",
     "data": {
      "text/plain": [
       "     Pressure  Temperature  Flow rate       Time\n",
       "0   45.454545   311.818182   0.254545   5.000000\n",
       "1   70.000000   295.454545   0.272727   5.545455\n",
       "2   64.545455   322.727273   0.218182   9.909091\n",
       "3   56.363636   339.090909   0.363636   8.272727\n",
       "4   48.181818   300.909091   0.400000   6.090909\n",
       "5   59.090909   344.545455   0.381818   9.363636\n",
       "6   50.909091   350.000000   0.200000   8.818182\n",
       "7   67.272727   317.272727   0.327273   7.727273\n",
       "8   40.000000   333.636364   0.236364   7.181818\n",
       "9   53.636364   306.363636   0.309091  11.000000\n",
       "10  42.727273   290.000000   0.290909   6.636364\n",
       "11  61.818182   328.181818   0.345455  10.454545"
      ],
      "text/html": "<div>\n<style scoped>\n    .dataframe tbody tr th:only-of-type {\n        vertical-align: middle;\n    }\n\n    .dataframe tbody tr th {\n        vertical-align: top;\n    }\n\n    .dataframe thead th {\n        text-align: right;\n    }\n</style>\n<table border=\"1\" class=\"dataframe\">\n  <thead>\n    <tr style=\"text-align: right;\">\n      <th></th>\n      <th>Pressure</th>\n      <th>Temperature</th>\n      <th>Flow rate</th>\n      <th>Time</th>\n    </tr>\n  </thead>\n  <tbody>\n    <tr>\n      <th>0</th>\n      <td>45.454545</td>\n      <td>311.818182</td>\n      <td>0.254545</td>\n      <td>5.000000</td>\n    </tr>\n    <tr>\n      <th>1</th>\n      <td>70.000000</td>\n      <td>295.454545</td>\n      <td>0.272727</td>\n      <td>5.545455</td>\n    </tr>\n    <tr>\n      <th>2</th>\n      <td>64.545455</td>\n      <td>322.727273</td>\n      <td>0.218182</td>\n      <td>9.909091</td>\n    </tr>\n    <tr>\n      <th>3</th>\n      <td>56.363636</td>\n      <td>339.090909</td>\n      <td>0.363636</td>\n      <td>8.272727</td>\n    </tr>\n    <tr>\n      <th>4</th>\n      <td>48.181818</td>\n      <td>300.909091</td>\n      <td>0.400000</td>\n      <td>6.090909</td>\n    </tr>\n    <tr>\n      <th>5</th>\n      <td>59.090909</td>\n      <td>344.545455</td>\n      <td>0.381818</td>\n      <td>9.363636</td>\n    </tr>\n    <tr>\n      <th>6</th>\n      <td>50.909091</td>\n      <td>350.000000</td>\n      <td>0.200000</td>\n      <td>8.818182</td>\n    </tr>\n    <tr>\n      <th>7</th>\n      <td>67.272727</td>\n      <td>317.272727</td>\n      <td>0.327273</td>\n      <td>7.727273</td>\n    </tr>\n    <tr>\n      <th>8</th>\n      <td>40.000000</td>\n      <td>333.636364</td>\n      <td>0.236364</td>\n      <td>7.181818</td>\n    </tr>\n    <tr>\n      <th>9</th>\n      <td>53.636364</td>\n      <td>306.363636</td>\n      <td>0.309091</td>\n      <td>11.000000</td>\n    </tr>\n    <tr>\n      <th>10</th>\n      <td>42.727273</td>\n      <td>290.000000</td>\n      <td>0.290909</td>\n      <td>6.636364</td>\n    </tr>\n    <tr>\n      <th>11</th>\n      <td>61.818182</td>\n      <td>328.181818</td>\n      <td>0.345455</td>\n      <td>10.454545</td>\n    </tr>\n  </tbody>\n</table>\n</div>"
     },
     "metadata": {},
     "execution_count": 2
    }
   ],
   "source": [
    "build.space_filling_lhs(\n",
    "{'Pressure':[40,55,70],\n",
    "'Temperature':[290, 320, 350],\n",
    "'Flow rate':[0.2,0.4],\n",
    "'Time':[5,11]},\n",
    "num_samples = 12\n",
    ")\n"
   ]
  },
  {
   "cell_type": "code",
   "execution_count": 3,
   "metadata": {},
   "outputs": [
    {
     "output_type": "stream",
     "name": "stdout",
     "text": [
      "Pressure had more than two levels. Assigning the end point to the high level.\nTemperature had more than two levels. Assigning the end point to the high level.\n"
     ]
    },
    {
     "output_type": "execute_result",
     "data": {
      "text/plain": [
       "   Pressure  Temperature  Flow rate  Time\n",
       "0      55.0        305.0       0.30  11.0\n",
       "1      40.0        335.0       0.35   9.5\n",
       "2      62.5        350.0       0.40   5.0\n",
       "3      70.0        290.0       0.25   8.0\n",
       "4      47.5        320.0       0.20   6.5"
      ],
      "text/html": "<div>\n<style scoped>\n    .dataframe tbody tr th:only-of-type {\n        vertical-align: middle;\n    }\n\n    .dataframe tbody tr th {\n        vertical-align: top;\n    }\n\n    .dataframe thead th {\n        text-align: right;\n    }\n</style>\n<table border=\"1\" class=\"dataframe\">\n  <thead>\n    <tr style=\"text-align: right;\">\n      <th></th>\n      <th>Pressure</th>\n      <th>Temperature</th>\n      <th>Flow rate</th>\n      <th>Time</th>\n    </tr>\n  </thead>\n  <tbody>\n    <tr>\n      <th>0</th>\n      <td>55.0</td>\n      <td>305.0</td>\n      <td>0.30</td>\n      <td>11.0</td>\n    </tr>\n    <tr>\n      <th>1</th>\n      <td>40.0</td>\n      <td>335.0</td>\n      <td>0.35</td>\n      <td>9.5</td>\n    </tr>\n    <tr>\n      <th>2</th>\n      <td>62.5</td>\n      <td>350.0</td>\n      <td>0.40</td>\n      <td>5.0</td>\n    </tr>\n    <tr>\n      <th>3</th>\n      <td>70.0</td>\n      <td>290.0</td>\n      <td>0.25</td>\n      <td>8.0</td>\n    </tr>\n    <tr>\n      <th>4</th>\n      <td>47.5</td>\n      <td>320.0</td>\n      <td>0.20</td>\n      <td>6.5</td>\n    </tr>\n  </tbody>\n</table>\n</div>"
     },
     "metadata": {},
     "execution_count": 3
    }
   ],
   "source": [
    "build.space_filling_lhs(\n",
    "{'Pressure':[40,55,70],\n",
    "'Temperature':[290, 320, 350],\n",
    "'Flow rate':[0.2,0.4],\n",
    "'Time':[5,11]},\n",
    "num_samples = 5\n",
    ")"
   ]
  },
  {
   "cell_type": "code",
   "execution_count": 12,
   "metadata": {},
   "outputs": [
    {
     "output_type": "execute_result",
     "data": {
      "text/plain": [
       "array([ 6.9       ,  8.23333333,  9.56666667, 10.9       , 12.23333333,\n",
       "       13.56666667, 14.9       , 16.23333333, 17.56666667, 18.9       ])"
      ]
     },
     "metadata": {},
     "execution_count": 12
    }
   ],
   "source": [
    "import numpy as np\n",
    "np.linspace(6.9, 18.9, 10)"
   ]
  },
  {
   "cell_type": "code",
   "execution_count": 19,
   "metadata": {},
   "outputs": [
    {
     "output_type": "execute_result",
     "data": {
      "text/plain": [
       "['3', '4', '5', '6', '7', '8', '9', '10', '11', '12']"
      ]
     },
     "metadata": {},
     "execution_count": 19
    }
   ],
   "source": [
    "\n"
   ]
  },
  {
   "cell_type": "code",
   "execution_count": 42,
   "metadata": {},
   "outputs": [
    {
     "output_type": "stream",
     "name": "stdout",
     "text": [
      "Period had more than two levels. Assigning the end point to the high level.\nBrazilian State had more than two levels. Assigning the end point to the high level.\nRate had more than two levels. Assigning the end point to the high level.\nGroup 1 had more than two levels. Assigning the end point to the high level.\nGroup 2 had more than two levels. Assigning the end point to the high level.\n"
     ]
    },
    {
     "output_type": "execute_result",
     "data": {
      "text/plain": [
       "   Period  Brazilian State  Rate  Group 1  Group 2\n",
       "0     3.0              0.0  18.9      1.0      4.0\n",
       "1    12.0              0.0   6.9      1.0      1.0\n",
       "2     3.0              5.0   6.9      1.0      4.0\n",
       "3    12.0              5.0  18.9      1.0      1.0\n",
       "4     3.0              0.0  18.9     10.0      1.0\n",
       "5    12.0              0.0   6.9     10.0      4.0\n",
       "6     3.0              5.0   6.9     10.0      1.0\n",
       "7    12.0              5.0  18.9     10.0      4.0"
      ],
      "text/html": "<div>\n<style scoped>\n    .dataframe tbody tr th:only-of-type {\n        vertical-align: middle;\n    }\n\n    .dataframe tbody tr th {\n        vertical-align: top;\n    }\n\n    .dataframe thead th {\n        text-align: right;\n    }\n</style>\n<table border=\"1\" class=\"dataframe\">\n  <thead>\n    <tr style=\"text-align: right;\">\n      <th></th>\n      <th>Period</th>\n      <th>Brazilian State</th>\n      <th>Rate</th>\n      <th>Group 1</th>\n      <th>Group 2</th>\n    </tr>\n  </thead>\n  <tbody>\n    <tr>\n      <th>0</th>\n      <td>3.0</td>\n      <td>0.0</td>\n      <td>18.9</td>\n      <td>1.0</td>\n      <td>4.0</td>\n    </tr>\n    <tr>\n      <th>1</th>\n      <td>12.0</td>\n      <td>0.0</td>\n      <td>6.9</td>\n      <td>1.0</td>\n      <td>1.0</td>\n    </tr>\n    <tr>\n      <th>2</th>\n      <td>3.0</td>\n      <td>5.0</td>\n      <td>6.9</td>\n      <td>1.0</td>\n      <td>4.0</td>\n    </tr>\n    <tr>\n      <th>3</th>\n      <td>12.0</td>\n      <td>5.0</td>\n      <td>18.9</td>\n      <td>1.0</td>\n      <td>1.0</td>\n    </tr>\n    <tr>\n      <th>4</th>\n      <td>3.0</td>\n      <td>0.0</td>\n      <td>18.9</td>\n      <td>10.0</td>\n      <td>1.0</td>\n    </tr>\n    <tr>\n      <th>5</th>\n      <td>12.0</td>\n      <td>0.0</td>\n      <td>6.9</td>\n      <td>10.0</td>\n      <td>4.0</td>\n    </tr>\n    <tr>\n      <th>6</th>\n      <td>3.0</td>\n      <td>5.0</td>\n      <td>6.9</td>\n      <td>10.0</td>\n      <td>1.0</td>\n    </tr>\n    <tr>\n      <th>7</th>\n      <td>12.0</td>\n      <td>5.0</td>\n      <td>18.9</td>\n      <td>10.0</td>\n      <td>4.0</td>\n    </tr>\n  </tbody>\n</table>\n</div>"
     },
     "metadata": {},
     "execution_count": 42
    }
   ],
   "source": [
    "conds  = {'Period':list(map(str, [3,4,5,6,7,8,9,10,11,12])),\n",
    "'Brazilian State': [0,1,2,3,4,5],\n",
    "'Rate':np.linspace(6.9, 18.9, 10), \n",
    "'Group 1':np.linspace(1,10,9),\n",
    "'Group 2':np.linspace(1,4,3)}\n",
    "build.plackett_burman(conds)"
   ]
  },
  {
   "cell_type": "code",
   "execution_count": 43,
   "metadata": {},
   "outputs": [
    {
     "output_type": "execute_result",
     "data": {
      "text/plain": [
       "   Period  Rate  Group 1  Group 2\n",
       "0     0.0   6.9     10.0      1.0\n",
       "1    12.0   6.9      1.0      1.0\n",
       "2     0.0  18.9      1.0      1.0\n",
       "3    12.0  18.9     10.0      1.0\n",
       "4     0.0   6.9     10.0      4.0\n",
       "5    12.0   6.9      1.0      4.0\n",
       "6     0.0  18.9      1.0      4.0\n",
       "7    12.0  18.9     10.0      4.0"
      ],
      "text/html": "<div>\n<style scoped>\n    .dataframe tbody tr th:only-of-type {\n        vertical-align: middle;\n    }\n\n    .dataframe tbody tr th {\n        vertical-align: top;\n    }\n\n    .dataframe thead th {\n        text-align: right;\n    }\n</style>\n<table border=\"1\" class=\"dataframe\">\n  <thead>\n    <tr style=\"text-align: right;\">\n      <th></th>\n      <th>Period</th>\n      <th>Rate</th>\n      <th>Group 1</th>\n      <th>Group 2</th>\n    </tr>\n  </thead>\n  <tbody>\n    <tr>\n      <th>0</th>\n      <td>0.0</td>\n      <td>6.9</td>\n      <td>10.0</td>\n      <td>1.0</td>\n    </tr>\n    <tr>\n      <th>1</th>\n      <td>12.0</td>\n      <td>6.9</td>\n      <td>1.0</td>\n      <td>1.0</td>\n    </tr>\n    <tr>\n      <th>2</th>\n      <td>0.0</td>\n      <td>18.9</td>\n      <td>1.0</td>\n      <td>1.0</td>\n    </tr>\n    <tr>\n      <th>3</th>\n      <td>12.0</td>\n      <td>18.9</td>\n      <td>10.0</td>\n      <td>1.0</td>\n    </tr>\n    <tr>\n      <th>4</th>\n      <td>0.0</td>\n      <td>6.9</td>\n      <td>10.0</td>\n      <td>4.0</td>\n    </tr>\n    <tr>\n      <th>5</th>\n      <td>12.0</td>\n      <td>6.9</td>\n      <td>1.0</td>\n      <td>4.0</td>\n    </tr>\n    <tr>\n      <th>6</th>\n      <td>0.0</td>\n      <td>18.9</td>\n      <td>1.0</td>\n      <td>4.0</td>\n    </tr>\n    <tr>\n      <th>7</th>\n      <td>12.0</td>\n      <td>18.9</td>\n      <td>10.0</td>\n      <td>4.0</td>\n    </tr>\n  </tbody>\n</table>\n</div>"
     },
     "metadata": {},
     "execution_count": 43
    }
   ],
   "source": [
    "build.plackett_burman(max_min)"
   ]
  },
  {
   "cell_type": "code",
   "execution_count": 28,
   "metadata": {},
   "outputs": [],
   "source": [
    "max_min = {'Period':[0,12],\n",
    "'Rate': [6.9, 18.9],\n",
    "'Group 1':[1,10],\n",
    "'Group 2':[1,4]}"
   ]
  },
  {
   "cell_type": "code",
   "execution_count": null,
   "metadata": {},
   "outputs": [],
   "source": []
  },
  {
   "cell_type": "code",
   "execution_count": 33,
   "metadata": {},
   "outputs": [
    {
     "output_type": "stream",
     "name": "stdout",
     "text": [
      "Period had more than two levels. Assigning the end point to the high level.\nRate had more than two levels. Assigning the end point to the high level.\nGroup 1 had more than two levels. Assigning the end point to the high level.\nGroup 2 had more than two levels. Assigning the end point to the high level.\n"
     ]
    },
    {
     "output_type": "error",
     "ename": "TypeError",
     "evalue": "unsupported operand type(s) for -: 'numpy.str_' and 'numpy.str_'",
     "traceback": [
      "\u001b[0;31m---------------------------------------------------------------------------\u001b[0m",
      "\u001b[0;31mTypeError\u001b[0m                                 Traceback (most recent call last)",
      "\u001b[0;32m<ipython-input-33-8e4895ccaf40>\u001b[0m in \u001b[0;36m<module>\u001b[0;34m\u001b[0m\n\u001b[0;32m----> 1\u001b[0;31m build.space_filling_lhs(\n\u001b[0m\u001b[1;32m      2\u001b[0m {'Period':list(map(str, [3,4,5,6,7,8,9,10,11,12])),\n\u001b[1;32m      3\u001b[0m \u001b[0;34m'Rate'\u001b[0m\u001b[0;34m:\u001b[0m\u001b[0mnp\u001b[0m\u001b[0;34m.\u001b[0m\u001b[0mlinspace\u001b[0m\u001b[0;34m(\u001b[0m\u001b[0;36m6.9\u001b[0m\u001b[0;34m,\u001b[0m \u001b[0;36m18.9\u001b[0m\u001b[0;34m,\u001b[0m \u001b[0;36m10\u001b[0m\u001b[0;34m)\u001b[0m\u001b[0;34m,\u001b[0m\u001b[0;34m\u001b[0m\u001b[0;34m\u001b[0m\u001b[0m\n\u001b[1;32m      4\u001b[0m \u001b[0;34m'Group 1'\u001b[0m\u001b[0;34m:\u001b[0m\u001b[0mnp\u001b[0m\u001b[0;34m.\u001b[0m\u001b[0mlinspace\u001b[0m\u001b[0;34m(\u001b[0m\u001b[0;36m1\u001b[0m\u001b[0;34m,\u001b[0m\u001b[0;36m10\u001b[0m\u001b[0;34m,\u001b[0m\u001b[0;36m9\u001b[0m\u001b[0;34m)\u001b[0m\u001b[0;34m,\u001b[0m\u001b[0;34m\u001b[0m\u001b[0;34m\u001b[0m\u001b[0m\n\u001b[1;32m      5\u001b[0m 'Group 2':np.linspace(1,4,3)},\n",
      "\u001b[0;32m~/penvs/experimental_design/lib/python3.8/site-packages/doepy/build.py\u001b[0m in \u001b[0;36mspace_filling_lhs\u001b[0;34m(d, num_samples)\u001b[0m\n\u001b[1;32m    162\u001b[0m     \"\"\"\n\u001b[1;32m    163\u001b[0m \u001b[0;34m\u001b[0m\u001b[0m\n\u001b[0;32m--> 164\u001b[0;31m     \u001b[0;32mreturn\u001b[0m \u001b[0mbuild_space_filling_lhs\u001b[0m\u001b[0;34m(\u001b[0m\u001b[0md\u001b[0m\u001b[0;34m,\u001b[0m \u001b[0mnum_samples\u001b[0m\u001b[0;34m=\u001b[0m\u001b[0mnum_samples\u001b[0m\u001b[0;34m)\u001b[0m\u001b[0;34m\u001b[0m\u001b[0;34m\u001b[0m\u001b[0m\n\u001b[0m\u001b[1;32m    165\u001b[0m \u001b[0;34m\u001b[0m\u001b[0m\n\u001b[1;32m    166\u001b[0m \u001b[0;32mdef\u001b[0m \u001b[0mrandom_k_means\u001b[0m\u001b[0;34m(\u001b[0m\u001b[0md\u001b[0m\u001b[0;34m,\u001b[0m \u001b[0mnum_samples\u001b[0m\u001b[0;34m=\u001b[0m\u001b[0;32mNone\u001b[0m\u001b[0;34m)\u001b[0m\u001b[0;34m:\u001b[0m\u001b[0;34m\u001b[0m\u001b[0;34m\u001b[0m\u001b[0m\n",
      "\u001b[0;32m~/penvs/experimental_design/lib/python3.8/site-packages/doepy/doe_functions.py\u001b[0m in \u001b[0;36mbuild_space_filling_lhs\u001b[0;34m(factor_level_ranges, num_samples)\u001b[0m\n\u001b[1;32m    441\u001b[0m     \u001b[0mfactor_lists\u001b[0m\u001b[0;34m=\u001b[0m\u001b[0mnp\u001b[0m\u001b[0;34m.\u001b[0m\u001b[0marray\u001b[0m\u001b[0;34m(\u001b[0m\u001b[0mfactor_lists\u001b[0m\u001b[0;34m)\u001b[0m\u001b[0;34m\u001b[0m\u001b[0;34m\u001b[0m\u001b[0m\n\u001b[1;32m    442\u001b[0m \u001b[0;34m\u001b[0m\u001b[0m\n\u001b[0;32m--> 443\u001b[0;31m     \u001b[0mdf\u001b[0m \u001b[0;34m=\u001b[0m \u001b[0mconstruct_df_from_random_matrix\u001b[0m\u001b[0;34m(\u001b[0m\u001b[0mx\u001b[0m\u001b[0;34m,\u001b[0m\u001b[0mfactor_lists\u001b[0m\u001b[0;34m)\u001b[0m\u001b[0;34m\u001b[0m\u001b[0;34m\u001b[0m\u001b[0m\n\u001b[0m\u001b[1;32m    444\u001b[0m     \u001b[0mdf\u001b[0m\u001b[0;34m.\u001b[0m\u001b[0mcolumns\u001b[0m\u001b[0;34m=\u001b[0m\u001b[0mfactor_level_ranges\u001b[0m\u001b[0;34m.\u001b[0m\u001b[0mkeys\u001b[0m\u001b[0;34m(\u001b[0m\u001b[0;34m)\u001b[0m\u001b[0;34m\u001b[0m\u001b[0;34m\u001b[0m\u001b[0m\n\u001b[1;32m    445\u001b[0m     \u001b[0;32mreturn\u001b[0m \u001b[0mdf\u001b[0m\u001b[0;34m\u001b[0m\u001b[0;34m\u001b[0m\u001b[0m\n",
      "\u001b[0;32m~/penvs/experimental_design/lib/python3.8/site-packages/doepy/doe_functions.py\u001b[0m in \u001b[0;36mconstruct_df_from_random_matrix\u001b[0;34m(x, factor_array)\u001b[0m\n\u001b[1;32m     86\u001b[0m     \u001b[0;32mfor\u001b[0m \u001b[0mi\u001b[0m \u001b[0;32min\u001b[0m \u001b[0mrange\u001b[0m\u001b[0;34m(\u001b[0m\u001b[0mrow_num\u001b[0m\u001b[0;34m)\u001b[0m\u001b[0;34m:\u001b[0m\u001b[0;34m\u001b[0m\u001b[0;34m\u001b[0m\u001b[0m\n\u001b[1;32m     87\u001b[0m         \u001b[0;32mfor\u001b[0m \u001b[0mj\u001b[0m \u001b[0;32min\u001b[0m \u001b[0mrange\u001b[0m\u001b[0;34m(\u001b[0m\u001b[0mcol_num\u001b[0m\u001b[0;34m)\u001b[0m\u001b[0;34m:\u001b[0m\u001b[0;34m\u001b[0m\u001b[0;34m\u001b[0m\u001b[0m\n\u001b[0;32m---> 88\u001b[0;31m             \u001b[0mempty\u001b[0m\u001b[0;34m[\u001b[0m\u001b[0mi\u001b[0m\u001b[0;34m,\u001b[0m\u001b[0mj\u001b[0m\u001b[0;34m]\u001b[0m \u001b[0;34m=\u001b[0m \u001b[0msimple_substitution\u001b[0m\u001b[0;34m(\u001b[0m\u001b[0mx\u001b[0m\u001b[0;34m[\u001b[0m\u001b[0mi\u001b[0m\u001b[0;34m,\u001b[0m\u001b[0mj\u001b[0m\u001b[0;34m]\u001b[0m\u001b[0;34m,\u001b[0m\u001b[0mfactor_array\u001b[0m\u001b[0;34m[\u001b[0m\u001b[0mj\u001b[0m\u001b[0;34m]\u001b[0m\u001b[0;34m)\u001b[0m\u001b[0;34m\u001b[0m\u001b[0;34m\u001b[0m\u001b[0m\n\u001b[0m\u001b[1;32m     89\u001b[0m \u001b[0;34m\u001b[0m\u001b[0m\n\u001b[1;32m     90\u001b[0m     \u001b[0;32mreturn\u001b[0m \u001b[0mpd\u001b[0m\u001b[0;34m.\u001b[0m\u001b[0mDataFrame\u001b[0m\u001b[0;34m(\u001b[0m\u001b[0mdata\u001b[0m\u001b[0;34m=\u001b[0m\u001b[0mempty\u001b[0m\u001b[0;34m)\u001b[0m\u001b[0;34m\u001b[0m\u001b[0;34m\u001b[0m\u001b[0m\n",
      "\u001b[0;32m~/penvs/experimental_design/lib/python3.8/site-packages/doepy/doe_functions.py\u001b[0m in \u001b[0;36msimple_substitution\u001b[0;34m(idx, factor_list)\u001b[0m\n\u001b[1;32m     80\u001b[0m \u001b[0;34m\u001b[0m\u001b[0m\n\u001b[1;32m     81\u001b[0m     \u001b[0;32mdef\u001b[0m \u001b[0msimple_substitution\u001b[0m\u001b[0;34m(\u001b[0m\u001b[0midx\u001b[0m\u001b[0;34m,\u001b[0m\u001b[0mfactor_list\u001b[0m\u001b[0;34m)\u001b[0m\u001b[0;34m:\u001b[0m\u001b[0;34m\u001b[0m\u001b[0;34m\u001b[0m\u001b[0m\n\u001b[0;32m---> 82\u001b[0;31m         \u001b[0malpha\u001b[0m\u001b[0;34m=\u001b[0m\u001b[0mnp\u001b[0m\u001b[0;34m.\u001b[0m\u001b[0mabs\u001b[0m\u001b[0;34m(\u001b[0m\u001b[0mfactor_list\u001b[0m\u001b[0;34m[\u001b[0m\u001b[0;36m1\u001b[0m\u001b[0;34m]\u001b[0m\u001b[0;34m-\u001b[0m\u001b[0mfactor_list\u001b[0m\u001b[0;34m[\u001b[0m\u001b[0;36m0\u001b[0m\u001b[0;34m]\u001b[0m\u001b[0;34m)\u001b[0m\u001b[0;34m\u001b[0m\u001b[0;34m\u001b[0m\u001b[0m\n\u001b[0m\u001b[1;32m     83\u001b[0m         \u001b[0mbeta\u001b[0m\u001b[0;34m=\u001b[0m\u001b[0midx\u001b[0m\u001b[0;34m\u001b[0m\u001b[0;34m\u001b[0m\u001b[0m\n\u001b[1;32m     84\u001b[0m         \u001b[0;32mreturn\u001b[0m \u001b[0mfactor_list\u001b[0m\u001b[0;34m[\u001b[0m\u001b[0;36m0\u001b[0m\u001b[0;34m]\u001b[0m\u001b[0;34m+\u001b[0m\u001b[0;34m(\u001b[0m\u001b[0mbeta\u001b[0m\u001b[0;34m*\u001b[0m\u001b[0malpha\u001b[0m\u001b[0;34m)\u001b[0m\u001b[0;34m\u001b[0m\u001b[0;34m\u001b[0m\u001b[0m\n",
      "\u001b[0;31mTypeError\u001b[0m: unsupported operand type(s) for -: 'numpy.str_' and 'numpy.str_'"
     ]
    }
   ],
   "source": [
    "build.space_filling_lhs(\n",
    "{'Period':list(map(str, [3,4,5,6,7,8,9,10,11,12])),\n",
    "'Rate':np.linspace(6.9, 18.9, 10),\n",
    "'Group 1':np.linspace(1,10,9),\n",
    "'Group 2':np.linspace(1,4,3)},\n",
    "num_samples = 50\n",
    ")"
   ]
  },
  {
   "cell_type": "code",
   "execution_count": 21,
   "metadata": {},
   "outputs": [
    {
     "output_type": "stream",
     "text": [
      "\u001b[0;31mSignature:\u001b[0m \u001b[0mbuild\u001b[0m\u001b[0;34m.\u001b[0m\u001b[0mplackett_burman\u001b[0m\u001b[0;34m(\u001b[0m\u001b[0md\u001b[0m\u001b[0;34m)\u001b[0m\u001b[0;34m\u001b[0m\u001b[0;34m\u001b[0m\u001b[0m\n",
      "\u001b[0;31mDocstring:\u001b[0m\n",
      "Builds a Plackett-Burman dataframe from a dictionary of factor/level ranges.\n",
      "Only min and max values of the range are required.\n",
      "Example of the dictionary which is needed as the input:\n",
      "{'Pressure':[50,70],'Temperature':[290, 350],'Flow rate':[0.9,1.0]}\n",
      "    \n",
      "    Plackett–Burman designs are experimental designs presented in 1946 by Robin L. Plackett and J. P. Burman while working in the British Ministry of Supply.(Their goal was to find experimental designs for investigating the dependence of some measured quantity on a number of independent variables (factors), each taking L levels, in such a way as to minimize the variance of the estimates of these dependencies using a limited number of experiments. \n",
      "    \n",
      "Interactions between the factors were considered negligible. The solution to this problem is to find an experimental design where each combination of levels for any pair of factors appears the same number of times, throughout all the experimental runs (refer to table). \n",
      "    A complete factorial design would satisfy this criterion, but the idea was to find smaller designs.\n",
      "    \n",
      "    These designs are unique in that the number of trial conditions (rows) expands by multiples of four (e.g. 4, 8, 12, etc.). \n",
      "    The max number of columns allowed before a design increases the number of rows is always one less than the next higher multiple of four.\n",
      "\u001b[0;31mFile:\u001b[0m      ~/penvs/experimental_design/lib/python3.8/site-packages/doepy/build.py\n",
      "\u001b[0;31mType:\u001b[0m      function\n"
     ],
     "name": "stdout"
    }
   ],
   "source": [
    "?build.plackett_burman"
   ]
  },
  {
   "cell_type": "code",
   "execution_count": 38,
   "metadata": {},
   "outputs": [
    {
     "output_type": "stream",
     "name": "stdout",
     "text": [
      "Period had more than two levels. Assigning the end point to the high level.\nRate had more than two levels. Assigning the end point to the high level.\nBrazilian State had more than two levels. Assigning the end point to the high level.\nGroup 1 had more than two levels. Assigning the end point to the high level.\nGroup 2 had more than two levels. Assigning the end point to the high level.\n"
     ]
    },
    {
     "output_type": "execute_result",
     "data": {
      "text/plain": [
       "   Period  Rate  Brazilian State  Group 1  Group 2\n",
       "0     3.0   6.9              1.0      1.0      4.0\n",
       "1    12.0   6.9              0.0      1.0      1.0\n",
       "2     3.0  18.9              0.0      1.0      4.0\n",
       "3    12.0  18.9              1.0      1.0      1.0\n",
       "4     3.0   6.9              1.0     10.0      1.0\n",
       "5    12.0   6.9              0.0     10.0      4.0\n",
       "6     3.0  18.9              0.0     10.0      1.0\n",
       "7    12.0  18.9              1.0     10.0      4.0"
      ],
      "text/html": "<div>\n<style scoped>\n    .dataframe tbody tr th:only-of-type {\n        vertical-align: middle;\n    }\n\n    .dataframe tbody tr th {\n        vertical-align: top;\n    }\n\n    .dataframe thead th {\n        text-align: right;\n    }\n</style>\n<table border=\"1\" class=\"dataframe\">\n  <thead>\n    <tr style=\"text-align: right;\">\n      <th></th>\n      <th>Period</th>\n      <th>Rate</th>\n      <th>Brazilian State</th>\n      <th>Group 1</th>\n      <th>Group 2</th>\n    </tr>\n  </thead>\n  <tbody>\n    <tr>\n      <th>0</th>\n      <td>3.0</td>\n      <td>6.9</td>\n      <td>1.0</td>\n      <td>1.0</td>\n      <td>4.0</td>\n    </tr>\n    <tr>\n      <th>1</th>\n      <td>12.0</td>\n      <td>6.9</td>\n      <td>0.0</td>\n      <td>1.0</td>\n      <td>1.0</td>\n    </tr>\n    <tr>\n      <th>2</th>\n      <td>3.0</td>\n      <td>18.9</td>\n      <td>0.0</td>\n      <td>1.0</td>\n      <td>4.0</td>\n    </tr>\n    <tr>\n      <th>3</th>\n      <td>12.0</td>\n      <td>18.9</td>\n      <td>1.0</td>\n      <td>1.0</td>\n      <td>1.0</td>\n    </tr>\n    <tr>\n      <th>4</th>\n      <td>3.0</td>\n      <td>6.9</td>\n      <td>1.0</td>\n      <td>10.0</td>\n      <td>1.0</td>\n    </tr>\n    <tr>\n      <th>5</th>\n      <td>12.0</td>\n      <td>6.9</td>\n      <td>0.0</td>\n      <td>10.0</td>\n      <td>4.0</td>\n    </tr>\n    <tr>\n      <th>6</th>\n      <td>3.0</td>\n      <td>18.9</td>\n      <td>0.0</td>\n      <td>10.0</td>\n      <td>1.0</td>\n    </tr>\n    <tr>\n      <th>7</th>\n      <td>12.0</td>\n      <td>18.9</td>\n      <td>1.0</td>\n      <td>10.0</td>\n      <td>4.0</td>\n    </tr>\n  </tbody>\n</table>\n</div>"
     },
     "metadata": {},
     "execution_count": 38
    }
   ],
   "source": []
  },
  {
   "cell_type": "code",
   "execution_count": 25,
   "metadata": {},
   "outputs": [
    {
     "output_type": "stream",
     "text": [
      "\u001b[0;31mSignature:\u001b[0m \u001b[0mbuild\u001b[0m\u001b[0;34m.\u001b[0m\u001b[0msukharev\u001b[0m\u001b[0;34m(\u001b[0m\u001b[0md\u001b[0m\u001b[0;34m,\u001b[0m \u001b[0mnum_samples\u001b[0m\u001b[0;34m=\u001b[0m\u001b[0;32mNone\u001b[0m\u001b[0;34m)\u001b[0m\u001b[0;34m\u001b[0m\u001b[0;34m\u001b[0m\u001b[0m\n",
      "\u001b[0;31mDocstring:\u001b[0m\n",
      "Builds a Sukharev-grid hypercube design dataframe from a dictionary of factor/level ranges.\n",
      "Number of samples raised to the power of (1/dimension), where dimension is the number of variables, must be an integer.\n",
      "Only min and max values of the range are required.\n",
      "Example of the dictionary which is needed as the input:\n",
      "{'Pressure':[50,70],'Temperature':[290, 350],'Flow rate':[0.9,1.0]}\n",
      "num_samples: Number of samples to be generated\n",
      "    \n",
      "    Special property of this grid is that points are not placed on the boundaries of the hypercube, but at centroids of the  subcells constituted by individual samples. \n",
      "    This design offers optimal results for the covering radius regarding distances based on the max-norm.\n",
      "\u001b[0;31mFile:\u001b[0m      ~/penvs/experimental_design/lib/python3.8/site-packages/doepy/build.py\n",
      "\u001b[0;31mType:\u001b[0m      function\n"
     ],
     "name": "stdout"
    }
   ],
   "source": [
    "?build.sukharev"
   ]
  },
  {
   "cell_type": "code",
   "execution_count": 30,
   "metadata": {},
   "outputs": [
    {
     "output_type": "stream",
     "name": "stdout",
     "text": [
      "\nNumber of samples not adequate to fill a Sukharev grid. Increasing sample size to:  81\n"
     ]
    },
    {
     "output_type": "execute_result",
     "data": {
      "text/plain": [
       "    Period  Rate  Group 1  Group 2\n",
       "0      2.0   8.9      2.5      1.5\n",
       "1      2.0   8.9      2.5      2.5\n",
       "2      2.0   8.9      2.5      3.5\n",
       "3      2.0   8.9      5.5      1.5\n",
       "4      2.0   8.9      5.5      2.5\n",
       "..     ...   ...      ...      ...\n",
       "76    10.0  16.9      5.5      2.5\n",
       "77    10.0  16.9      5.5      3.5\n",
       "78    10.0  16.9      8.5      1.5\n",
       "79    10.0  16.9      8.5      2.5\n",
       "80    10.0  16.9      8.5      3.5\n",
       "\n",
       "[81 rows x 4 columns]"
      ],
      "text/html": "<div>\n<style scoped>\n    .dataframe tbody tr th:only-of-type {\n        vertical-align: middle;\n    }\n\n    .dataframe tbody tr th {\n        vertical-align: top;\n    }\n\n    .dataframe thead th {\n        text-align: right;\n    }\n</style>\n<table border=\"1\" class=\"dataframe\">\n  <thead>\n    <tr style=\"text-align: right;\">\n      <th></th>\n      <th>Period</th>\n      <th>Rate</th>\n      <th>Group 1</th>\n      <th>Group 2</th>\n    </tr>\n  </thead>\n  <tbody>\n    <tr>\n      <th>0</th>\n      <td>2.0</td>\n      <td>8.9</td>\n      <td>2.5</td>\n      <td>1.5</td>\n    </tr>\n    <tr>\n      <th>1</th>\n      <td>2.0</td>\n      <td>8.9</td>\n      <td>2.5</td>\n      <td>2.5</td>\n    </tr>\n    <tr>\n      <th>2</th>\n      <td>2.0</td>\n      <td>8.9</td>\n      <td>2.5</td>\n      <td>3.5</td>\n    </tr>\n    <tr>\n      <th>3</th>\n      <td>2.0</td>\n      <td>8.9</td>\n      <td>5.5</td>\n      <td>1.5</td>\n    </tr>\n    <tr>\n      <th>4</th>\n      <td>2.0</td>\n      <td>8.9</td>\n      <td>5.5</td>\n      <td>2.5</td>\n    </tr>\n    <tr>\n      <th>...</th>\n      <td>...</td>\n      <td>...</td>\n      <td>...</td>\n      <td>...</td>\n    </tr>\n    <tr>\n      <th>76</th>\n      <td>10.0</td>\n      <td>16.9</td>\n      <td>5.5</td>\n      <td>2.5</td>\n    </tr>\n    <tr>\n      <th>77</th>\n      <td>10.0</td>\n      <td>16.9</td>\n      <td>5.5</td>\n      <td>3.5</td>\n    </tr>\n    <tr>\n      <th>78</th>\n      <td>10.0</td>\n      <td>16.9</td>\n      <td>8.5</td>\n      <td>1.5</td>\n    </tr>\n    <tr>\n      <th>79</th>\n      <td>10.0</td>\n      <td>16.9</td>\n      <td>8.5</td>\n      <td>2.5</td>\n    </tr>\n    <tr>\n      <th>80</th>\n      <td>10.0</td>\n      <td>16.9</td>\n      <td>8.5</td>\n      <td>3.5</td>\n    </tr>\n  </tbody>\n</table>\n<p>81 rows × 4 columns</p>\n</div>"
     },
     "metadata": {},
     "execution_count": 30
    }
   ],
   "source": [
    "build.sukharev(max_min, num_samples=25)"
   ]
  },
  {
   "cell_type": "code",
   "execution_count": null,
   "metadata": {},
   "outputs": [],
   "source": []
  }
 ]
}